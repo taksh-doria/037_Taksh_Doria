{
 "cells": [
  {
   "cell_type": "code",
   "execution_count": 17,
   "id": "a3ab88d0",
   "metadata": {},
   "outputs": [],
   "source": [
    "import numpy as np\n",
    "import random"
   ]
  },
  {
   "cell_type": "code",
   "execution_count": 18,
   "id": "c5f22f8f",
   "metadata": {},
   "outputs": [
    {
     "name": "stdout",
     "output_type": "stream",
     "text": [
      "[[25 28]\n",
      " [66 88]\n",
      " [13 63]]\n"
     ]
    }
   ],
   "source": [
    "arr1=[]\n",
    "for i in range(0,3):\n",
    "    list=[]\n",
    "    for j in range(0,2):\n",
    "        list.append(random.randint(0,100))\n",
    "    arr1.append(list)\n",
    "array2=np.array(arr1)\n",
    "print(array2)"
   ]
  },
  {
   "cell_type": "code",
   "execution_count": 19,
   "id": "efe18f55",
   "metadata": {},
   "outputs": [
    {
     "name": "stdout",
     "output_type": "stream",
     "text": [
      "[[14 73 96]\n",
      " [10 96 40]]\n"
     ]
    }
   ],
   "source": [
    "arr2=[]\n",
    "for i in range(0,2):\n",
    "    list=[]\n",
    "    for j in range(0,3):\n",
    "        list.append(random.randint(0,100))\n",
    "    arr2.append(list)\n",
    "array1=np.array(arr2)\n",
    "print(array1)"
   ]
  },
  {
   "cell_type": "code",
   "execution_count": 20,
   "id": "d2d3ef79",
   "metadata": {
    "scrolled": true
   },
   "outputs": [],
   "source": [
    "multiplies=np.matmul(array1,array2)"
   ]
  },
  {
   "cell_type": "code",
   "execution_count": 23,
   "id": "baee5d04",
   "metadata": {},
   "outputs": [
    {
     "data": {
      "text/plain": [
       "array([[ 6416, 12864],\n",
       "       [ 7106, 11248]])"
      ]
     },
     "execution_count": 23,
     "metadata": {},
     "output_type": "execute_result"
    }
   ],
   "source": [
    "multiplies"
   ]
  },
  {
   "cell_type": "code",
   "execution_count": null,
   "id": "76471c7d",
   "metadata": {},
   "outputs": [],
   "source": []
  },
  {
   "cell_type": "code",
   "execution_count": null,
   "id": "515248dd",
   "metadata": {},
   "outputs": [],
   "source": []
  }
 ],
 "metadata": {
  "kernelspec": {
   "display_name": "Python 3",
   "language": "python",
   "name": "python3"
  },
  "language_info": {
   "codemirror_mode": {
    "name": "ipython",
    "version": 3
   },
   "file_extension": ".py",
   "mimetype": "text/x-python",
   "name": "python",
   "nbconvert_exporter": "python",
   "pygments_lexer": "ipython3",
   "version": "3.8.8"
  }
 },
 "nbformat": 4,
 "nbformat_minor": 5
}
