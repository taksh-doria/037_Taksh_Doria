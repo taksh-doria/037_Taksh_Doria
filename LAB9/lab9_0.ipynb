{
  "nbformat": 4,
  "nbformat_minor": 0,
  "metadata": {
    "colab": {
      "name": "lab9_0.ipynb",
      "provenance": []
    },
    "kernelspec": {
      "name": "python3",
      "display_name": "Python 3"
    },
    "language_info": {
      "name": "python"
    }
  },
  "cells": [
    {
      "cell_type": "code",
      "metadata": {
        "id": "qv-gVtQcn2uD"
      },
      "source": [
        "import sys, os\n",
        "import matplotlib.pyplot as plt\n",
        "from sklearn import svm\n",
        "from sklearn.model_selection import train_test_split\n",
        "import numpy as np"
      ],
      "execution_count": 1,
      "outputs": []
    },
    {
      "cell_type": "code",
      "metadata": {
        "colab": {
          "base_uri": "https://localhost:8080/"
        },
        "id": "VyUyxRDGoqcI",
        "outputId": "6aaea211-80da-4e8b-c905-2f459e59aa22"
      },
      "source": [
        "from tensorflow.keras.datasets import mnist\n",
        "\n",
        "(features_train, targets_train), (features_test, targets_test) = mnist.load_data()"
      ],
      "execution_count": 2,
      "outputs": [
        {
          "output_type": "stream",
          "name": "stdout",
          "text": [
            "Downloading data from https://storage.googleapis.com/tensorflow/tf-keras-datasets/mnist.npz\n",
            "11493376/11490434 [==============================] - 0s 0us/step\n",
            "11501568/11490434 [==============================] - 0s 0us/step\n"
          ]
        }
      ]
    },
    {
      "cell_type": "code",
      "metadata": {
        "colab": {
          "base_uri": "https://localhost:8080/"
        },
        "id": "YE-4GhqCo27t",
        "outputId": "c5c4db10-fcf3-4f86-d47b-e8aaf73283b3"
      },
      "source": [
        "# Convert to float32.\n",
        "\n",
        "features_train, features_test = np.array(features_train, np.float32), np.array(features_test, np.float32)\n",
        "\n",
        "# Flatten images to 1-D vector of 784 features (28*28).\n",
        "num_features=784\n",
        "\n",
        "features_train, features_test = features_train.reshape([-1, num_features]), features_test.reshape([-1, num_features])\n",
        "\n",
        "# Normalize images value from [0, 255] to [0, 1].\n",
        "\n",
        "features_train, features_test = features_train / 255., features_test / 255\n",
        "\n",
        "print(len(features_train))\n",
        "print(len(features_test))"
      ],
      "execution_count": 3,
      "outputs": [
        {
          "output_type": "stream",
          "name": "stdout",
          "text": [
            "60000\n",
            "10000\n"
          ]
        }
      ]
    },
    {
      "cell_type": "code",
      "metadata": {
        "colab": {
          "base_uri": "https://localhost:8080/"
        },
        "id": "jeUt5E3-pJCX",
        "outputId": "6b14e1f4-c76a-4eed-cbcb-51de3d99718a"
      },
      "source": [
        "# Create a linear SVM classifier\n",
        "clf = svm.SVC(kernel='linear')\n",
        "\n",
        "# Train classifier\n",
        "clf.fit(features_train, targets_train)\n",
        "\n",
        "# Make predictions on unseen test data\n",
        "clf_predictions = clf.predict(features_test)\n",
        "\n",
        "print(\"Accuracy: {}%\".format(clf.score(features_test, targets_test) * 100 ))"
      ],
      "execution_count": 4,
      "outputs": [
        {
          "output_type": "stream",
          "name": "stdout",
          "text": [
            "Accuracy: 94.04%\n"
          ]
        }
      ]
    },
    {
      "cell_type": "code",
      "metadata": {
        "colab": {
          "base_uri": "https://localhost:8080/"
        },
        "id": "RE-j5VEFsRTD",
        "outputId": "290f5bc7-b05a-403e-c57d-e0f144598029"
      },
      "source": [
        "#Import scikit-learn metrics module for accuracy calculation\n",
        "from sklearn import metrics\n",
        "# Model Accuracy: how often is the classifier correct?\n",
        "print(\"Accuracy:\",metrics.accuracy_score(clf_predictions, targets_test))"
      ],
      "execution_count": 5,
      "outputs": [
        {
          "output_type": "stream",
          "name": "stdout",
          "text": [
            "Accuracy: 0.9404\n"
          ]
        }
      ]
    },
    {
      "cell_type": "code",
      "metadata": {
        "colab": {
          "base_uri": "https://localhost:8080/"
        },
        "id": "rOOixQGVsWjh",
        "outputId": "1984b610-99a6-404a-90d5-b5f18c3cded7"
      },
      "source": [
        "# Create a polynomial SVM classifier\n",
        "clf1 = svm.SVC(kernel='poly')\n",
        "\n",
        "# Train classifier\n",
        "clf1.fit(features_train, targets_train)\n",
        "\n",
        "# Make predictions on unseen test data\n",
        "clf1_predictions = clf1.predict(features_test)\n",
        "\n",
        "#Import scikit-learn metrics module for accuracy calculation\n",
        "from sklearn import metrics\n",
        "# Model Accuracy: how often is the classifier correct?\n",
        "print(\"Accuracy:\",metrics.accuracy_score(clf1_predictions, targets_test))"
      ],
      "execution_count": 6,
      "outputs": [
        {
          "output_type": "stream",
          "name": "stdout",
          "text": [
            "Accuracy: 0.9771\n"
          ]
        }
      ]
    },
    {
      "cell_type": "code",
      "metadata": {
        "colab": {
          "base_uri": "https://localhost:8080/"
        },
        "id": "padwA_VoxGdD",
        "outputId": "c1431a5e-0030-4bf5-f423-17b63e645aa8"
      },
      "source": [
        "# Create a rbf SVM classifier\n",
        "clf2 = svm.SVC(kernel='rbf')\n",
        "\n",
        "# Train classifier\n",
        "clf2.fit(features_train, targets_train)\n",
        "\n",
        "# Make predictions on unseen test data\n",
        "clf2_predictions = clf2.predict(features_test)\n",
        "\n",
        "#Import scikit-learn metrics module for accuracy calculation\n",
        "from sklearn import metrics\n",
        "# Model Accuracy: how often is the classifier correct?\n",
        "print(\"Accuracy:\",metrics.accuracy_score(clf2_predictions, targets_test))"
      ],
      "execution_count": 7,
      "outputs": [
        {
          "output_type": "stream",
          "name": "stdout",
          "text": [
            "Accuracy: 0.9792\n"
          ]
        }
      ]
    },
    {
      "cell_type": "markdown",
      "metadata": {
        "id": "4EBNrKoJ08ND"
      },
      "source": [
        "From above result we can say that rbf is better than polinomial and linear\n",
        "#RBF >= Poli > Linear"
      ]
    }
  ]
}