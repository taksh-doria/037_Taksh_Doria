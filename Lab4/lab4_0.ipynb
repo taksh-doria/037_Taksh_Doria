{
 "cells": [
  {
   "cell_type": "markdown",
   "metadata": {
    "id": "QkPcFSKDf8zL"
   },
   "source": [
    "Task-1:Try the algo on Same Whether dataset - LabelEncoding of features: and Train test Division 80%-20% with Gini Index as attribute selection measure"
   ]
  },
  {
   "cell_type": "code",
   "execution_count": 1,
   "metadata": {
    "executionInfo": {
     "elapsed": 1219,
     "status": "ok",
     "timestamp": 1628931983663,
     "user": {
      "displayName": "CE026_Harshit_Chudasama",
      "photoUrl": "https://lh3.googleusercontent.com/a-/AOh14GgpwfUNpnsFtqFaOExpSsvION-unXOSHVPEh509=s64",
      "userId": "02324419457304188540"
     },
     "user_tz": -330
    },
    "id": "bF7leOXDfxyu"
   },
   "outputs": [],
   "source": [
    "#Import library\n",
    "from sklearn import preprocessing\n",
    "from sklearn import datasets\n",
    "from sklearn.tree import DecisionTreeClassifier\n",
    "import pandas as pd\n",
    "import numpy as np\n"
   ]
  },
  {
   "cell_type": "code",
   "execution_count": 2,
   "metadata": {
    "executionInfo": {
     "elapsed": 458,
     "status": "ok",
     "timestamp": 1628931985927,
     "user": {
      "displayName": "CE026_Harshit_Chudasama",
      "photoUrl": "https://lh3.googleusercontent.com/a-/AOh14GgpwfUNpnsFtqFaOExpSsvION-unXOSHVPEh509=s64",
      "userId": "02324419457304188540"
     },
     "user_tz": -330
    },
    "id": "ni5KhosWf7jE"
   },
   "outputs": [],
   "source": [
    "#Predictor variables\n",
    "Outlook = ['Rainy', 'Rainy', 'Overcast', 'Sunny', 'Sunny', 'Sunny', 'Overcast',\n",
    "            'Rainy', 'Rainy', 'Sunny', 'Rainy','Overcast', 'Overcast', 'Sunny']\n",
    "Temperature = ['Hot', 'Hot', 'Hot', 'Mild', 'Cool', 'Cool', 'Cool',\n",
    "                'Mild', 'Cool', 'Mild', 'Mild', 'Mild', 'Hot', 'Mild']\n",
    "Humidity = ['High', 'High', 'High', 'High', 'Normal', 'Normal', 'Normal',\n",
    "            'High', 'Normal', 'Normal', 'Normal', 'High', 'Normal', 'High']\n",
    "Wind = ['False', 'True', 'False', 'False', 'False', 'True', 'True',\n",
    "            'False', 'False', 'False', 'True', 'True', 'False', 'True']\n",
    "\n",
    "#Class Label:\n",
    "Play = ['No', 'No', 'Yes', 'Yes', 'Yes', 'No', 'Yes', 'No',\n",
    "'Yes', 'Yes', 'Yes', 'Yes', 'Yes', 'No']"
   ]
  },
  {
   "cell_type": "code",
   "execution_count": 3,
   "metadata": {
    "colab": {
     "base_uri": "https://localhost:8080/"
    },
    "executionInfo": {
     "elapsed": 8,
     "status": "ok",
     "timestamp": 1628931989146,
     "user": {
      "displayName": "CE026_Harshit_Chudasama",
      "photoUrl": "https://lh3.googleusercontent.com/a-/AOh14GgpwfUNpnsFtqFaOExpSsvION-unXOSHVPEh509=s64",
      "userId": "02324419457304188540"
     },
     "user_tz": -330
    },
    "id": "4O-cuuhnga3a",
    "outputId": "28ddcd2d-d57f-4e7a-f0ed-13a0c2d70f3c"
   },
   "outputs": [
    {
     "name": "stdout",
     "output_type": "stream",
     "text": [
      "Outllok mapping: {'Overcast': 0, 'Rainy': 1, 'Sunny': 2}\n",
      "Temperature mapping: {'Cool': 0, 'Hot': 1, 'Mild': 2}\n",
      "Humidity mapping: {'High': 0, 'Normal': 1}\n",
      "Wind mapping: {'False': 0, 'True': 1}\n",
      "Play mapping: {'No': 0, 'Yes': 1}\n",
      "\n",
      "\n",
      "\n",
      "Weather: [1 1 0 2 2 2 0 1 1 2 1 0 0 2]\n",
      "Temerature: [1 1 1 2 0 0 0 2 0 2 2 2 1 2]\n",
      "Humidity: [0 0 0 0 1 1 1 0 1 1 1 0 1 0]\n",
      "Wind: [0 1 0 0 0 1 1 0 0 0 1 1 0 1]\n",
      "Play: [0 0 1 1 1 0 1 0 1 1 1 1 1 0]\n"
     ]
    }
   ],
   "source": [
    "#creating labelEncoder\n",
    "le = preprocessing.LabelEncoder()\n",
    "# Converting string labels into numbers.\n",
    "Outlook_encoded = le.fit_transform(Outlook)\n",
    "Outlook_name_mapping = dict(zip(le.classes_, le.transform(le.classes_)))\n",
    "print(\"Outllok mapping:\",Outlook_name_mapping)\n",
    "\n",
    "Temperature_encoded = le.fit_transform(Temperature)\n",
    "Temperature_name_mapping = dict(zip(le.classes_, le.transform(le.classes_)))\n",
    "print(\"Temperature mapping:\",Temperature_name_mapping)\n",
    "\n",
    "Humidity_encoded = le.fit_transform(Humidity)\n",
    "Humidity_name_mapping = dict(zip(le.classes_, le.transform(le.classes_)))\n",
    "print(\"Humidity mapping:\",Humidity_name_mapping)\n",
    "\n",
    "Wind_encoded = le.fit_transform(Wind)\n",
    "Wind_name_mapping = dict(zip(le.classes_, le.transform(le.classes_)))\n",
    "print(\"Wind mapping:\",Wind_name_mapping)\n",
    "\n",
    "Play_encoded = le.fit_transform(Play)\n",
    "Play_name_mapping = dict(zip(le.classes_, le.transform(le.classes_)))\n",
    "print(\"Play mapping:\",Play_name_mapping)\n",
    "\n",
    "print(\"\\n\\n\")\n",
    "print(\"Weather:\" ,Outlook_encoded)\n",
    "print(\"Temerature:\" ,Temperature_encoded)\n",
    "print(\"Humidity:\" ,Humidity_encoded)\n",
    "print(\"Wind:\" ,Wind_encoded)\n",
    "print(\"Play:\" ,Play_encoded)"
   ]
  },
  {
   "cell_type": "code",
   "execution_count": 4,
   "metadata": {
    "colab": {
     "base_uri": "https://localhost:8080/"
    },
    "executionInfo": {
     "elapsed": 502,
     "status": "ok",
     "timestamp": 1628932745196,
     "user": {
      "displayName": "CE026_Harshit_Chudasama",
      "photoUrl": "https://lh3.googleusercontent.com/a-/AOh14GgpwfUNpnsFtqFaOExpSsvION-unXOSHVPEh509=s64",
      "userId": "02324419457304188540"
     },
     "user_tz": -330
    },
    "id": "JgvT9afk5-Nq",
    "outputId": "0b4076e0-1bcf-4257-9f84-1bbc837a8c82"
   },
   "outputs": [
    {
     "name": "stdout",
     "output_type": "stream",
     "text": [
      "    Outlook  Temperature  Humidity  Wind  Play\n",
      "0         1            1         0     0     0\n",
      "1         1            1         0     1     0\n",
      "2         0            1         0     0     1\n",
      "3         2            2         0     0     1\n",
      "4         2            0         1     0     1\n",
      "5         2            0         1     1     0\n",
      "6         0            0         1     1     1\n",
      "7         1            2         0     0     0\n",
      "8         1            0         1     0     1\n",
      "9         2            2         1     0     1\n",
      "10        1            2         1     1     1\n",
      "11        0            2         0     1     1\n",
      "12        0            1         1     0     1\n",
      "13        2            2         0     1     0\n"
     ]
    }
   ],
   "source": [
    "weather=pd.DataFrame(Outlook_encoded, columns=['Outlook'])\n",
    "weather['Temperature']=pd.DataFrame(Temperature_encoded, columns=['Temperature'])\n",
    "weather['Humidity']=pd.DataFrame(Humidity_encoded, columns=['Humidity'])\n",
    "weather['Wind']=pd.DataFrame(Wind_encoded, columns=['Wind'])\n",
    "weather['Play']=pd.DataFrame(Play_encoded, columns=['Play'])\n",
    "print(weather)"
   ]
  },
  {
   "cell_type": "code",
   "execution_count": 5,
   "metadata": {
    "executionInfo": {
     "elapsed": 731,
     "status": "ok",
     "timestamp": 1628932889996,
     "user": {
      "displayName": "CE026_Harshit_Chudasama",
      "photoUrl": "https://lh3.googleusercontent.com/a-/AOh14GgpwfUNpnsFtqFaOExpSsvION-unXOSHVPEh509=s64",
      "userId": "02324419457304188540"
     },
     "user_tz": -330
    },
    "id": "qx2Ke7se5t-H"
   },
   "outputs": [],
   "source": [
    "from sklearn.model_selection import train_test_split\n",
    "X=weather.values[:,0:4]\n",
    "Y=weather.values[:,-1]\n",
    "X_train, X_test, y_train, y_test = train_test_split( \n",
    "    X, Y, test_size = 0.2, random_state = 100)\n"
   ]
  },
  {
   "cell_type": "code",
   "execution_count": 6,
   "metadata": {
    "colab": {
     "base_uri": "https://localhost:8080/"
    },
    "executionInfo": {
     "elapsed": 436,
     "status": "ok",
     "timestamp": 1628933223873,
     "user": {
      "displayName": "CE026_Harshit_Chudasama",
      "photoUrl": "https://lh3.googleusercontent.com/a-/AOh14GgpwfUNpnsFtqFaOExpSsvION-unXOSHVPEh509=s64",
      "userId": "02324419457304188540"
     },
     "user_tz": -330
    },
    "id": "QZH9dVC79cs8",
    "outputId": "1b2024f1-a905-466f-d05d-76eecb186196"
   },
   "outputs": [
    {
     "data": {
      "text/plain": [
       "DecisionTreeClassifier(max_depth=7, min_samples_leaf=10, random_state=100)"
      ]
     },
     "execution_count": 6,
     "metadata": {},
     "output_type": "execute_result"
    }
   ],
   "source": [
    "#Create a Decision Tree Classifier (using Gini)\n",
    "clf_gini = DecisionTreeClassifier(criterion = \"gini\",\n",
    "            random_state = 100,max_depth=7, min_samples_leaf=10)\n",
    "\n",
    "clf_gini.fit(X_train, y_train)"
   ]
  },
  {
   "cell_type": "code",
   "execution_count": 7,
   "metadata": {
    "colab": {
     "base_uri": "https://localhost:8080/"
    },
    "executionInfo": {
     "elapsed": 776,
     "status": "ok",
     "timestamp": 1628933227819,
     "user": {
      "displayName": "CE026_Harshit_Chudasama",
      "photoUrl": "https://lh3.googleusercontent.com/a-/AOh14GgpwfUNpnsFtqFaOExpSsvION-unXOSHVPEh509=s64",
      "userId": "02324419457304188540"
     },
     "user_tz": -330
    },
    "id": "CvsGt6_3-HrR",
    "outputId": "5590088f-d220-4b8b-b88c-415b3736c217"
   },
   "outputs": [
    {
     "name": "stdout",
     "output_type": "stream",
     "text": [
      "Predicted values:\n",
      "[1 1 1]\n"
     ]
    }
   ],
   "source": [
    "# Predict the classes of test data\n",
    "y_pred = clf_gini.predict(X_test)\n",
    "print(\"Predicted values:\")\n",
    "print(y_pred)"
   ]
  },
  {
   "cell_type": "code",
   "execution_count": 36,
   "metadata": {
    "colab": {
     "base_uri": "https://localhost:8080/"
    },
    "executionInfo": {
     "elapsed": 455,
     "status": "ok",
     "timestamp": 1628933230461,
     "user": {
      "displayName": "CE026_Harshit_Chudasama",
      "photoUrl": "https://lh3.googleusercontent.com/a-/AOh14GgpwfUNpnsFtqFaOExpSsvION-unXOSHVPEh509=s64",
      "userId": "02324419457304188540"
     },
     "user_tz": -330
    },
    "id": "xhbL6W3y-Ww6",
    "outputId": "0ea700dc-aab7-40d7-e9ca-59689e6315a4"
   },
   "outputs": [
    {
     "name": "stdout",
     "output_type": "stream",
     "text": [
      "Confusion Matrix:  [[0 1]\n",
      " [0 2]]\n",
      "Accuracy :  66.66666666666666\n",
      "Report :                precision    recall  f1-score   support\n",
      "\n",
      "           0       0.00      0.00      0.00         1\n",
      "           1       0.67      1.00      0.80         2\n",
      "\n",
      "    accuracy                           0.67         3\n",
      "   macro avg       0.33      0.50      0.40         3\n",
      "weighted avg       0.44      0.67      0.53         3\n",
      "\n"
     ]
    },
    {
     "name": "stderr",
     "output_type": "stream",
     "text": [
      "/usr/local/lib/python3.7/dist-packages/sklearn/metrics/_classification.py:1272: UndefinedMetricWarning: Precision and F-score are ill-defined and being set to 0.0 in labels with no predicted samples. Use `zero_division` parameter to control this behavior.\n",
      "  _warn_prf(average, modifier, msg_start, len(result))\n"
     ]
    }
   ],
   "source": [
    "# Model Accuracy\n",
    "from sklearn import metrics\n",
    "print(\"Confusion Matrix: \",\n",
    "        metrics.confusion_matrix(y_test, y_pred))\n",
    "print (\"Accuracy : \",\n",
    "    metrics.accuracy_score(y_test,y_pred)*100)\n",
    "print(\"Report : \",\n",
    "    metrics.classification_report(y_test, y_pred))\n"
   ]
  }
 ],
 "metadata": {
  "colab": {
   "authorship_tag": "ABX9TyNA1AqiOfpERg7+jDpQ62ka",
   "name": "lab4_0.ipynb",
   "provenance": []
  },
  "kernelspec": {
   "display_name": "Python 3",
   "language": "python",
   "name": "python3"
  },
  "language_info": {
   "codemirror_mode": {
    "name": "ipython",
    "version": 3
   },
   "file_extension": ".py",
   "mimetype": "text/x-python",
   "name": "python",
   "nbconvert_exporter": "python",
   "pygments_lexer": "ipython3",
   "version": "3.8.8"
  }
 },
 "nbformat": 4,
 "nbformat_minor": 1
}
