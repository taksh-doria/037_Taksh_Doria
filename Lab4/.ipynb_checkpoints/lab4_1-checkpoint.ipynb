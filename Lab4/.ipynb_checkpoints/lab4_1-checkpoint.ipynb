{
 "cells": [
  {
   "cell_type": "markdown",
   "metadata": {
    "id": "QkPcFSKDf8zL"
   },
   "source": [
    "Task 2: Apply algorithm on digits dataset - One Hot Encoding of features: and Train test Division 65%-35%"
   ]
  },
  {
   "cell_type": "code",
   "execution_count": 1,
   "metadata": {
    "colab": {
     "base_uri": "https://localhost:8080/"
    },
    "executionInfo": {
     "elapsed": 794,
     "status": "ok",
     "timestamp": 1628936225464,
     "user": {
      "displayName": "CE026_Harshit_Chudasama",
      "photoUrl": "https://lh3.googleusercontent.com/a-/AOh14GgpwfUNpnsFtqFaOExpSsvION-unXOSHVPEh509=s64",
      "userId": "02324419457304188540"
     },
     "user_tz": -330
    },
    "id": "bF7leOXDfxyu",
    "outputId": "4d88f0b9-87fa-4b3c-93e9-3fb6db1a9a30"
   },
   "outputs": [
    {
     "name": "stdout",
     "output_type": "stream",
     "text": [
      "{'data': array([[ 0.,  0.,  5., ...,  0.,  0.,  0.],\n",
      "       [ 0.,  0.,  0., ..., 10.,  0.,  0.],\n",
      "       [ 0.,  0.,  0., ..., 16.,  9.,  0.],\n",
      "       ...,\n",
      "       [ 0.,  0.,  1., ...,  6.,  0.,  0.],\n",
      "       [ 0.,  0.,  2., ..., 12.,  0.,  0.],\n",
      "       [ 0.,  0., 10., ..., 12.,  1.,  0.]]), 'target': array([0, 1, 2, ..., 8, 9, 8]), 'frame': None, 'feature_names': ['pixel_0_0', 'pixel_0_1', 'pixel_0_2', 'pixel_0_3', 'pixel_0_4', 'pixel_0_5', 'pixel_0_6', 'pixel_0_7', 'pixel_1_0', 'pixel_1_1', 'pixel_1_2', 'pixel_1_3', 'pixel_1_4', 'pixel_1_5', 'pixel_1_6', 'pixel_1_7', 'pixel_2_0', 'pixel_2_1', 'pixel_2_2', 'pixel_2_3', 'pixel_2_4', 'pixel_2_5', 'pixel_2_6', 'pixel_2_7', 'pixel_3_0', 'pixel_3_1', 'pixel_3_2', 'pixel_3_3', 'pixel_3_4', 'pixel_3_5', 'pixel_3_6', 'pixel_3_7', 'pixel_4_0', 'pixel_4_1', 'pixel_4_2', 'pixel_4_3', 'pixel_4_4', 'pixel_4_5', 'pixel_4_6', 'pixel_4_7', 'pixel_5_0', 'pixel_5_1', 'pixel_5_2', 'pixel_5_3', 'pixel_5_4', 'pixel_5_5', 'pixel_5_6', 'pixel_5_7', 'pixel_6_0', 'pixel_6_1', 'pixel_6_2', 'pixel_6_3', 'pixel_6_4', 'pixel_6_5', 'pixel_6_6', 'pixel_6_7', 'pixel_7_0', 'pixel_7_1', 'pixel_7_2', 'pixel_7_3', 'pixel_7_4', 'pixel_7_5', 'pixel_7_6', 'pixel_7_7'], 'target_names': array([0, 1, 2, 3, 4, 5, 6, 7, 8, 9]), 'images': array([[[ 0.,  0.,  5., ...,  1.,  0.,  0.],\n",
      "        [ 0.,  0., 13., ..., 15.,  5.,  0.],\n",
      "        [ 0.,  3., 15., ..., 11.,  8.,  0.],\n",
      "        ...,\n",
      "        [ 0.,  4., 11., ..., 12.,  7.,  0.],\n",
      "        [ 0.,  2., 14., ..., 12.,  0.,  0.],\n",
      "        [ 0.,  0.,  6., ...,  0.,  0.,  0.]],\n",
      "\n",
      "       [[ 0.,  0.,  0., ...,  5.,  0.,  0.],\n",
      "        [ 0.,  0.,  0., ...,  9.,  0.,  0.],\n",
      "        [ 0.,  0.,  3., ...,  6.,  0.,  0.],\n",
      "        ...,\n",
      "        [ 0.,  0.,  1., ...,  6.,  0.,  0.],\n",
      "        [ 0.,  0.,  1., ...,  6.,  0.,  0.],\n",
      "        [ 0.,  0.,  0., ..., 10.,  0.,  0.]],\n",
      "\n",
      "       [[ 0.,  0.,  0., ..., 12.,  0.,  0.],\n",
      "        [ 0.,  0.,  3., ..., 14.,  0.,  0.],\n",
      "        [ 0.,  0.,  8., ..., 16.,  0.,  0.],\n",
      "        ...,\n",
      "        [ 0.,  9., 16., ...,  0.,  0.,  0.],\n",
      "        [ 0.,  3., 13., ..., 11.,  5.,  0.],\n",
      "        [ 0.,  0.,  0., ..., 16.,  9.,  0.]],\n",
      "\n",
      "       ...,\n",
      "\n",
      "       [[ 0.,  0.,  1., ...,  1.,  0.,  0.],\n",
      "        [ 0.,  0., 13., ...,  2.,  1.,  0.],\n",
      "        [ 0.,  0., 16., ..., 16.,  5.,  0.],\n",
      "        ...,\n",
      "        [ 0.,  0., 16., ..., 15.,  0.,  0.],\n",
      "        [ 0.,  0., 15., ..., 16.,  0.,  0.],\n",
      "        [ 0.,  0.,  2., ...,  6.,  0.,  0.]],\n",
      "\n",
      "       [[ 0.,  0.,  2., ...,  0.,  0.,  0.],\n",
      "        [ 0.,  0., 14., ..., 15.,  1.,  0.],\n",
      "        [ 0.,  4., 16., ..., 16.,  7.,  0.],\n",
      "        ...,\n",
      "        [ 0.,  0.,  0., ..., 16.,  2.,  0.],\n",
      "        [ 0.,  0.,  4., ..., 16.,  2.,  0.],\n",
      "        [ 0.,  0.,  5., ..., 12.,  0.,  0.]],\n",
      "\n",
      "       [[ 0.,  0., 10., ...,  1.,  0.,  0.],\n",
      "        [ 0.,  2., 16., ...,  1.,  0.,  0.],\n",
      "        [ 0.,  0., 15., ..., 15.,  0.,  0.],\n",
      "        ...,\n",
      "        [ 0.,  4., 16., ..., 16.,  6.,  0.],\n",
      "        [ 0.,  8., 16., ..., 16.,  8.,  0.],\n",
      "        [ 0.,  1.,  8., ..., 12.,  1.,  0.]]]), 'DESCR': \".. _digits_dataset:\\n\\nOptical recognition of handwritten digits dataset\\n--------------------------------------------------\\n\\n**Data Set Characteristics:**\\n\\n    :Number of Instances: 1797\\n    :Number of Attributes: 64\\n    :Attribute Information: 8x8 image of integer pixels in the range 0..16.\\n    :Missing Attribute Values: None\\n    :Creator: E. Alpaydin (alpaydin '@' boun.edu.tr)\\n    :Date: July; 1998\\n\\nThis is a copy of the test set of the UCI ML hand-written digits datasets\\nhttps://archive.ics.uci.edu/ml/datasets/Optical+Recognition+of+Handwritten+Digits\\n\\nThe data set contains images of hand-written digits: 10 classes where\\neach class refers to a digit.\\n\\nPreprocessing programs made available by NIST were used to extract\\nnormalized bitmaps of handwritten digits from a preprinted form. From a\\ntotal of 43 people, 30 contributed to the training set and different 13\\nto the test set. 32x32 bitmaps are divided into nonoverlapping blocks of\\n4x4 and the number of on pixels are counted in each block. This generates\\nan input matrix of 8x8 where each element is an integer in the range\\n0..16. This reduces dimensionality and gives invariance to small\\ndistortions.\\n\\nFor info on NIST preprocessing routines, see M. D. Garris, J. L. Blue, G.\\nT. Candela, D. L. Dimmick, J. Geist, P. J. Grother, S. A. Janet, and C.\\nL. Wilson, NIST Form-Based Handprint Recognition System, NISTIR 5469,\\n1994.\\n\\n.. topic:: References\\n\\n  - C. Kaynak (1995) Methods of Combining Multiple Classifiers and Their\\n    Applications to Handwritten Digit Recognition, MSc Thesis, Institute of\\n    Graduate Studies in Science and Engineering, Bogazici University.\\n  - E. Alpaydin, C. Kaynak (1998) Cascading Classifiers, Kybernetika.\\n  - Ken Tang and Ponnuthurai N. Suganthan and Xi Yao and A. Kai Qin.\\n    Linear dimensionalityreduction using relevance weighted LDA. School of\\n    Electrical and Electronic Engineering Nanyang Technological University.\\n    2005.\\n  - Claudio Gentile. A New Approximate Maximal Margin Classification\\n    Algorithm. NIPS. 2000.\\n\"}\n"
     ]
    }
   ],
   "source": [
    "#Import scikit-learn dataset library\n",
    "from sklearn import datasets\n",
    "from sklearn.tree import DecisionTreeClassifier\n",
    "import pandas as pd\n",
    "import numpy as np\n",
    "\n",
    "#Load dataset\n",
    "digits = datasets.load_digits()\n",
    "print(digits)"
   ]
  },
  {
   "cell_type": "code",
   "execution_count": 2,
   "metadata": {
    "colab": {
     "base_uri": "https://localhost:8080/"
    },
    "executionInfo": {
     "elapsed": 11,
     "status": "ok",
     "timestamp": 1628936305366,
     "user": {
      "displayName": "CE026_Harshit_Chudasama",
      "photoUrl": "https://lh3.googleusercontent.com/a-/AOh14GgpwfUNpnsFtqFaOExpSsvION-unXOSHVPEh509=s64",
      "userId": "02324419457304188540"
     },
     "user_tz": -330
    },
    "id": "vHguPzmwKAn6",
    "outputId": "3ce87792-79ef-4661-f633-040920284954"
   },
   "outputs": [
    {
     "name": "stdout",
     "output_type": "stream",
     "text": [
      "(1797, 64)\n",
      "(1797,)\n"
     ]
    }
   ],
   "source": [
    "print(digits.data.shape)\n",
    "print(digits.target.shape)"
   ]
  },
  {
   "cell_type": "code",
   "execution_count": 3,
   "metadata": {
    "executionInfo": {
     "elapsed": 1432,
     "status": "ok",
     "timestamp": 1628936394841,
     "user": {
      "displayName": "CE026_Harshit_Chudasama",
      "photoUrl": "https://lh3.googleusercontent.com/a-/AOh14GgpwfUNpnsFtqFaOExpSsvION-unXOSHVPEh509=s64",
      "userId": "02324419457304188540"
     },
     "user_tz": -330
    },
    "id": "LmhD9jQBK_oP"
   },
   "outputs": [],
   "source": [
    "#import the necessary module\n",
    "from sklearn.model_selection import train_test_split\n",
    "\n",
    "X=digits.data\n",
    "Y=digits.target\n",
    "#split data set into train and test sets\n",
    "X_train, X_test, y_train, y_test = train_test_split( \n",
    "    X, Y, test_size = 0.35, random_state = 100)"
   ]
  },
  {
   "cell_type": "code",
   "execution_count": 4,
   "metadata": {
    "colab": {
     "base_uri": "https://localhost:8080/"
    },
    "executionInfo": {
     "elapsed": 924,
     "status": "ok",
     "timestamp": 1628936455156,
     "user": {
      "displayName": "CE026_Harshit_Chudasama",
      "photoUrl": "https://lh3.googleusercontent.com/a-/AOh14GgpwfUNpnsFtqFaOExpSsvION-unXOSHVPEh509=s64",
      "userId": "02324419457304188540"
     },
     "user_tz": -330
    },
    "id": "YUFvE4WhLURL",
    "outputId": "dd8229a6-957e-4956-d30b-c78a9f656bb7"
   },
   "outputs": [
    {
     "data": {
      "text/plain": [
       "DecisionTreeClassifier(max_depth=7, min_samples_leaf=10, random_state=100)"
      ]
     },
     "execution_count": 4,
     "metadata": {},
     "output_type": "execute_result"
    }
   ],
   "source": [
    "#Create a Decision Tree Classifier (using Gini)\n",
    "clf_gini = DecisionTreeClassifier(criterion = \"gini\",\n",
    "            random_state = 100,max_depth=7, min_samples_leaf=10)\n",
    "\n",
    "clf_gini.fit(X_train, y_train)"
   ]
  },
  {
   "cell_type": "code",
   "execution_count": 5,
   "metadata": {
    "colab": {
     "base_uri": "https://localhost:8080/"
    },
    "executionInfo": {
     "elapsed": 2355,
     "status": "ok",
     "timestamp": 1628936503850,
     "user": {
      "displayName": "CE026_Harshit_Chudasama",
      "photoUrl": "https://lh3.googleusercontent.com/a-/AOh14GgpwfUNpnsFtqFaOExpSsvION-unXOSHVPEh509=s64",
      "userId": "02324419457304188540"
     },
     "user_tz": -330
    },
    "id": "tZ_o0o1qLW0B",
    "outputId": "72ac9ebc-28bb-492d-e5db-d7f2b9f7dc89"
   },
   "outputs": [
    {
     "name": "stdout",
     "output_type": "stream",
     "text": [
      "Predicted values:\n",
      "[9 5 0 2 4 5 7 1 9 2 4 5 7 5 9 6 1 1 5 6 8 7 6 6 6 2 0 2 2 3 0 1 3 9 4 5 3\n",
      " 6 3 6 1 1 5 8 0 4 8 3 7 4 1 5 5 1 4 8 3 7 3 9 6 3 5 4 2 6 3 6 6 6 8 1 6 0\n",
      " 6 6 2 9 0 3 2 3 3 1 1 4 8 5 4 4 1 7 0 0 8 1 4 0 7 5 4 0 9 3 4 5 7 1 1 5 5\n",
      " 2 1 3 2 0 9 4 7 3 2 1 1 6 0 7 0 7 5 0 7 6 0 3 8 6 0 7 6 3 4 5 0 8 9 0 8 0\n",
      " 3 6 8 6 4 8 8 9 0 0 1 2 2 7 5 9 1 4 1 5 3 4 2 0 6 9 9 1 0 0 7 4 4 4 3 9 5\n",
      " 1 4 9 2 3 2 1 4 7 2 7 1 0 1 3 8 6 5 1 0 3 1 5 3 8 0 6 8 6 2 9 8 2 6 6 1 4\n",
      " 4 2 1 0 7 1 7 2 4 1 0 4 0 5 0 1 8 7 0 2 7 0 8 2 2 8 3 2 0 2 1 5 1 2 6 7 0\n",
      " 5 9 3 9 2 2 4 4 7 9 4 0 8 4 8 7 0 9 1 0 7 1 6 0 5 0 9 6 8 7 4 2 2 1 0 4 1\n",
      " 5 6 1 1 7 9 9 7 8 2 1 0 2 5 9 6 1 3 1 0 7 3 0 7 8 4 5 2 6 6 8 4 4 6 6 1 5\n",
      " 4 5 1 6 2 2 3 9 7 1 6 7 8 1 5 2 5 2 6 6 3 6 4 7 6 7 3 3 4 4 1 6 1 2 0 8 3\n",
      " 5 8 4 1 6 4 8 7 7 4 5 8 3 4 6 3 2 7 7 3 4 1 3 5 8 6 2 9 1 8 8 5 1 8 0 8 8\n",
      " 4 6 2 5 4 4 9 2 4 9 2 2 0 7 7 7 2 4 0 4 3 8 0 5 9 8 4 0 6 4 0 1 4 1 6 0 8\n",
      " 6 6 4 4 9 4 1 6 1 4 1 3 7 1 1 5 1 8 7 0 5 3 1 9 6 3 0 1 5 2 9 1 0 0 7 3 3\n",
      " 6 0 1 3 6 1 8 7 7 1 5 3 9 5 3 2 4 6 2 0 9 2 6 9 5 8 2 6 0 5 4 4 8 9 9 6 3\n",
      " 2 5 9 8 8 0 6 2 5 6 1 0 5 6 8 3 9 1 8 1 9 7 7 0 4 3 4 3 7 1 6 7 9 1 1 2 3\n",
      " 3 0 9 7 3 6 1 3 1 9 9 8 7 5 0 7 5 1 4 5 8 0 2 2 4 6 5 7 0 0 6 1 3 4 1 5 1\n",
      " 3 0 8 0 7 9 8 5 1 8 1 1 1 8 2 6 5 4 3 0 5 1 3 8 1 6 3 9 4 0 0 4 4 4 5 3 1]\n"
     ]
    }
   ],
   "source": [
    "# Predict the classes of test data\n",
    "y_pred = clf_gini.predict(X_test)\n",
    "print(\"Predicted values:\")\n",
    "print(y_pred)"
   ]
  },
  {
   "cell_type": "code",
   "execution_count": 6,
   "metadata": {
    "colab": {
     "base_uri": "https://localhost:8080/"
    },
    "executionInfo": {
     "elapsed": 1217,
     "status": "ok",
     "timestamp": 1628936510323,
     "user": {
      "displayName": "CE026_Harshit_Chudasama",
      "photoUrl": "https://lh3.googleusercontent.com/a-/AOh14GgpwfUNpnsFtqFaOExpSsvION-unXOSHVPEh509=s64",
      "userId": "02324419457304188540"
     },
     "user_tz": -330
    },
    "id": "LlfrNqQlLaKe",
    "outputId": "9a88accd-e5c0-43e7-c818-40eb203494ed"
   },
   "outputs": [
    {
     "name": "stdout",
     "output_type": "stream",
     "text": [
      "Confusion Matrix:  [[66  0  0  0  1  0  0  0  2  1]\n",
      " [ 0 50  2  0  0  0  3  0  3  3]\n",
      " [ 1  9 49  5  1  0  3  0  1  0]\n",
      " [ 0  3  0 47  0  0  0  1  6  2]\n",
      " [ 1  5  0  0 60  0  3  0  0  0]\n",
      " [ 1  1  0  2  3 53  1  0  0  3]\n",
      " [ 1  2  0  0  4  0 57  0  0  0]\n",
      " [ 0  1  3  0  0  0  1 49  1  1]\n",
      " [ 1  8  3  4  1  0  0  0 35  1]\n",
      " [ 1  8  0  2  1  5  0  5  7 35]]\n",
      "Accuracy :  79.65023847376789\n",
      "Report :                precision    recall  f1-score   support\n",
      "\n",
      "           0       0.92      0.94      0.93        70\n",
      "           1       0.57      0.82      0.68        61\n",
      "           2       0.86      0.71      0.78        69\n",
      "           3       0.78      0.80      0.79        59\n",
      "           4       0.85      0.87      0.86        69\n",
      "           5       0.91      0.83      0.87        64\n",
      "           6       0.84      0.89      0.86        64\n",
      "           7       0.89      0.88      0.88        56\n",
      "           8       0.64      0.66      0.65        53\n",
      "           9       0.76      0.55      0.64        64\n",
      "\n",
      "    accuracy                           0.80       629\n",
      "   macro avg       0.80      0.79      0.79       629\n",
      "weighted avg       0.81      0.80      0.80       629\n",
      "\n"
     ]
    }
   ],
   "source": [
    "# Model Accuracy\n",
    "from sklearn import metrics\n",
    "print(\"Confusion Matrix: \",\n",
    "        metrics.confusion_matrix(y_test, y_pred))\n",
    "print (\"Accuracy : \",\n",
    "    metrics.accuracy_score(y_test,y_pred)*100)\n",
    "print(\"Report : \",\n",
    "    metrics.classification_report(y_test, y_pred))\n"
   ]
  },
  {
   "cell_type": "code",
   "execution_count": null,
   "metadata": {},
   "outputs": [],
   "source": []
  }
 ],
 "metadata": {
  "colab": {
   "authorship_tag": "ABX9TyOhWcj8qbbc4FKq66XX0IGF",
   "collapsed_sections": [],
   "name": "lab4_1.ipynb",
   "provenance": [
    {
     "file_id": "1qmNO2iD4ySrDIILomyntf1yU5TSdg0kX",
     "timestamp": 1628933271336
    }
   ]
  },
  "kernelspec": {
   "display_name": "Python 3",
   "language": "python",
   "name": "python3"
  },
  "language_info": {
   "codemirror_mode": {
    "name": "ipython",
    "version": 3
   },
   "file_extension": ".py",
   "mimetype": "text/x-python",
   "name": "python",
   "nbconvert_exporter": "python",
   "pygments_lexer": "ipython3",
   "version": "3.8.8"
  }
 },
 "nbformat": 4,
 "nbformat_minor": 1
}
